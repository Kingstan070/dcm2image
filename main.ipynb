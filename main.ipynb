{
 "cells": [
  {
   "cell_type": "code",
   "execution_count": 6,
   "metadata": {},
   "outputs": [
    {
     "name": "stderr",
     "output_type": "stream",
     "text": [
      "Processing DICOM files: 100%|██████████████████████████████████████████████████████████████████████████████████████████████████████████████████████████████████████████████████████| 3/3 [00:34<00:00, 11.37s/it]\n"
     ]
    }
   ],
   "source": [
    "from conversion import dcm_to_images\n",
    "\n",
    "# Example usage\n",
    "input_folder = r\"SampleData\\170481\"  # Input folder containing DICOM files in subdirectories\n",
    "output_directory = r'output_image'  # Output folder\n",
    "\n",
    "# Convert all DICOM files in the specified folder and subdirectories\n",
    "dcm_to_images(input_folder, output_directory, target_size=(720, 720))  # Adjust the target size as needed"
   ]
  },
  {
   "cell_type": "code",
   "execution_count": null,
   "metadata": {},
   "outputs": [],
   "source": []
  }
 ],
 "metadata": {
  "kernelspec": {
   "display_name": "Python 3 (ipykernel)",
   "language": "python",
   "name": "python3"
  }
 },
 "nbformat": 4,
 "nbformat_minor": 2
}
